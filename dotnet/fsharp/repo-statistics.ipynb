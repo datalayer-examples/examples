{
 "cells": [
  {
   "cell_type": "markdown",
   "metadata": {},
   "source": [
    "# dotnet/interactive Github Dashboard with F# <img src =\"https://upload.wikimedia.org/wikipedia/commons/thumb/3/38/Jupyter_logo.svg/207px-Jupyter_logo.svg.png\" width=\"80px\" alt=\"dotnet bot in space\" align =\"right\"><img src =\"https://user-images.githubusercontent.com/2546640/56708992-deee8780-66ec-11e9-9991-eb85abb1d10a.png\" width=\"80px\" alt=\"dotnet bot in space\" align =\"right\">"
   ]
  },
  {
   "cell_type": "markdown",
   "metadata": {},
   "source": [
    "### Add NuGet package references "
   ]
  },
  {
   "cell_type": "code",
   "execution_count": 1,
   "metadata": {},
   "outputs": [
    {
     "data": {
      "text/html": [
       "Installed package Octokit version 0.32.0"
      ]
     },
     "metadata": {},
     "output_type": "display_data"
    },
    {
     "data": {
      "text/html": [
       "Installed package NodaTime version 2.4.6"
      ]
     },
     "metadata": {},
     "output_type": "display_data"
    }
   ],
   "source": [
    "#r \"nuget:Octokit, 0.32.0\"\n",
    "#r \"nuget:NodaTime, 2.4.6\"\n",
    "\n",
    "open Octokit\n",
    "open NodaTime\n",
    "open NodaTime.Extensions\n",
    "open XPlot.Plotly"
   ]
  },
  {
   "cell_type": "markdown",
   "metadata": {},
   "source": [
    "### Setup\n",
    "\n",
    "Create a GitHub public API client"
   ]
  },
  {
   "cell_type": "code",
   "execution_count": 2,
   "metadata": {},
   "outputs": [],
   "source": [
    "let organization = \"dotnet\"\n",
    "let repositoryName = \"interactive\"\n",
    "let options = ApiOptions()\n",
    "let gitHubClient = GitHubClient(ProductHeaderValue(\"notebook\"))"
   ]
  },
  {
   "cell_type": "markdown",
   "metadata": {},
   "source": [
    "[Generate a user token](https://help.github.com/en/github/authenticating-to-github/creating-a-personal-access-token-for-the-command-line) to get rid of public [api](https://github.com/octokit/octokit.net/blob/master/docs/getting-started.md) throttling policies for anonymous users "
   ]
  },
  {
   "cell_type": "code",
   "execution_count": 3,
   "metadata": {},
   "outputs": [],
   "source": [
    "// let tokenAuth = Credentials(\"YOUR-TOKEN-HERE\")\n",
    "// gitHubClient.Credentials <- tokenAuth"
   ]
  },
  {
   "cell_type": "code",
   "execution_count": 4,
   "metadata": {},
   "outputs": [],
   "source": [
    "let today = SystemClock.Instance.InUtc().GetCurrentDate()\n",
    "let startOfTheMonth = today.With(DateAdjusters.Month(1))\n",
    "let startOfTheYear = LocalDate(today.Year, 1, 1).AtMidnight()\n",
    "\n",
    "let since t = Nullable(DateTimeOffset(t))"
   ]
  },
  {
   "cell_type": "markdown",
   "metadata": {},
   "source": [
    "Query GitHub for : \n",
    "- Issues created this month\n",
    "- Issues closed this month\n",
    "- Every issue this year"
   ]
  },
  {
   "cell_type": "code",
   "execution_count": 5,
   "metadata": {},
   "outputs": [],
   "source": [
    "let createdIssuesRequest =\n",
    "    RepositoryIssueRequest(\n",
    "        Since = since (startOfTheMonth.ToDateTimeUnspecified()),\n",
    "        Filter = IssueFilter.Created)\n",
    "let closedIssuesRequest =\n",
    "    new RepositoryIssueRequest(\n",
    "                Since = since (startOfTheMonth.ToDateTimeUnspecified()),\n",
    "                State = ItemStateFilter.Closed)\n",
    "let thisYearIssuesRequest =\n",
    "    RepositoryIssueRequest(\n",
    "        Since = since (startOfTheYear.ToDateTimeUnspecified()),\n",
    "        State = ItemStateFilter.All)"
   ]
  },
  {
   "cell_type": "markdown",
   "metadata": {},
   "source": [
    "Start pulling data via the GitHub API"
   ]
  },
  {
   "cell_type": "code",
   "execution_count": 6,
   "metadata": {},
   "outputs": [],
   "source": [
    "let createdThisMonthTask =\n",
    "    async {\n",
    "        return!\n",
    "            gitHubClient.Issue.GetAllForRepository(organization, repositoryName, createdIssuesRequest)\n",
    "            |> Async.AwaitTask\n",
    "    }\n",
    "\n",
    "let closedThisMonthTask =\n",
    "    async {\n",
    "        return!\n",
    "            gitHubClient.Issue.GetAllForRepository(organization, repositoryName, closedIssuesRequest)\n",
    "            |> Async.AwaitTask\n",
    "    }\n",
    "\n",
    "let thisYearIssuesTask =\n",
    "    async {\n",
    "        return!\n",
    "            gitHubClient.Issue.GetAllForRepository(organization, repositoryName, thisYearIssuesRequest)\n",
    "            |> Async.AwaitTask\n",
    "    }\n",
    "\n",
    "let results =\n",
    "    [| createdThisMonthTask; closedThisMonthTask; thisYearIssuesTask |]\n",
    "    |> Async.Parallel\n",
    "    |> Async.RunSynchronously\n",
    "\n",
    "let createdThisMonth = results.[0]\n",
    "let closedThisMonth = results.[1]\n",
    "let thisYearIssues = results.[2]"
   ]
  },
  {
   "cell_type": "markdown",
   "metadata": {},
   "source": [
    "Group open and closed issues by month"
   ]
  },
  {
   "cell_type": "code",
   "execution_count": 7,
   "metadata": {},
   "outputs": [],
   "source": [
    "let openSoFar =\n",
    "    createdThisMonth\n",
    "    |> Seq.sortBy (fun i -> i.CreatedAt)\n",
    "    |> Seq.filter (fun i -> i.State.StringValue = \"open\")\n",
    "\n",
    "let openByMonthOfCreation =\n",
    "    openSoFar\n",
    "    |> Seq.groupBy (fun i -> {| Year = i.CreatedAt.Year; Month = i.CreatedAt.Month |})\n",
    "    |> Seq.map (fun (key, issues) -> {| Date = key; Count = issues.Count() |})\n",
    "    \n",
    "let closedSoFar =\n",
    "    thisYearIssues\n",
    "    |> Seq.sortBy (fun i -> i.CreatedAt)\n",
    "    |> Seq.filter (fun i -> i.State.StringValue = \"closed\")\n",
    "\n",
    "let closedByMonthOfClosure =\n",
    "    closedSoFar\n",
    "    |> Seq.groupBy (fun i -> {| Year = i.ClosedAt.Value.Year; Month = i.ClosedAt.Value.Month |})\n",
    "    |> Seq.map (fun (key, issues) ->  {| Date = key; Count = issues.Count() |})\n",
    "\n",
    "let openCountByMonth =\n",
    "    let mutable runningTotal = thisYearIssues.Count\n",
    "    \n",
    "    closedSoFar\n",
    "    |> List.ofSeq\n",
    "    |> List.groupBy (fun i -> {| Year = i.CreatedAt.Year; Month = i.CreatedAt.Month |})\n",
    "    |> List.map (fun (key, issues) ->\n",
    "                   let dataPoint = {| Date = key; Count = issues.Count() |}\n",
    "                   dataPoint)"
   ]
  },
  {
   "cell_type": "markdown",
   "metadata": {},
   "source": [
    "Show issues opened this month grouped by day "
   ]
  },
  {
   "cell_type": "code",
   "execution_count": 8,
   "metadata": {},
   "outputs": [
    {
     "data": {
      "text/html": [
       "<div id=\"74eb6b7e-5783-4d0d-a880-21c8ee9a6b96\" style=\"width: 900px; height: 500px;\"></div>\r\n",
       "<script type=\"text/javascript\">\r\n",
       "\r\n",
       "var renderPlotly = function() {\r\n",
       "    var xplotRequire = requirejs.config({context:'xplot-3.0.1',paths:{plotly:'https://cdn.plot.ly/plotly-1.49.2.min'}});\r\n",
       "    xplotRequire(['plotly'], function(Plotly) {\r\n",
       "\n",
       "            var data = [{\"type\":\"scatter\",\"x\":[\"2020-01-31T00:00:00\",\"2020-01-28T00:00:00\",\"2020-01-25T00:00:00\",\"2020-01-18T00:00:00\",\"2020-01-13T00:00:00\",\"2019-12-22T00:00:00\",\"2019-12-19T00:00:00\",\"2019-12-12T00:00:00\",\"2019-12-10T00:00:00\",\"2019-12-09T00:00:00\",\"2019-12-02T00:00:00\",\"2019-11-29T00:00:00\",\"2019-11-27T00:00:00\",\"2019-11-21T00:00:00\",\"2019-11-16T00:00:00\",\"2019-11-14T00:00:00\",\"2019-11-13T00:00:00\",\"2019-11-09T00:00:00\",\"2019-11-08T00:00:00\",\"2019-11-07T00:00:00\",\"2019-10-31T00:00:00\",\"2019-10-30T00:00:00\",\"2019-10-29T00:00:00\",\"2019-10-28T00:00:00\",\"2019-10-27T00:00:00\",\"2019-10-11T00:00:00\",\"2019-09-06T00:00:00\",\"2019-08-22T00:00:00\",\"2019-07-29T00:00:00\"],\"y\":[3,1,1,1,2,1,1,1,1,1,1,1,1,1,1,1,1,2,1,1,1,1,1,2,3,1,1,1,1]}];\n",
       "            var layout = {\"title\":\"Daily created issues over the past year\"};\n",
       "            Plotly.newPlot('74eb6b7e-5783-4d0d-a880-21c8ee9a6b96', data, layout);\n",
       "        \r\n",
       "});\r\n",
       "};\r\n",
       "if ((typeof(requirejs) !==  typeof(Function)) || (typeof(requirejs.config) !== typeof(Function))) { \r\n",
       "    var script = document.createElement(\"script\"); \r\n",
       "    script.setAttribute(\"src\", \"https://cdnjs.cloudflare.com/ajax/libs/require.js/2.3.6/require.min.js\"); \r\n",
       "    script.onload = function(){\r\n",
       "        renderPlotly();\r\n",
       "    };\r\n",
       "    document.getElementsByTagName(\"head\")[0].appendChild(script); \r\n",
       "}\r\n",
       "else {\r\n",
       "    renderPlotly();\r\n",
       "}\r\n",
       "</script>\r\n"
      ]
     },
     "execution_count": 8,
     "metadata": {},
     "output_type": "execute_result"
    }
   ],
   "source": [
    "let createdThisMonthByDay =\n",
    "    createdThisMonth\n",
    "    |> Seq.groupBy (fun i -> DateTime(i.CreatedAt.Year,i.CreatedAt.Month, i.CreatedAt.Day))\n",
    "    |> Seq.map (fun (date, issues) -> (date, issues.Count()))\n",
    "\n",
    "createdThisMonthByDay\n",
    "|> Chart.Line\n",
    "|> Chart.WithTitle(\"Daily created issues over the past year\")"
   ]
  },
  {
   "cell_type": "markdown",
   "metadata": {},
   "source": [
    "Show open issues, in descending order. Limit to 10 to save screen space."
   ]
  },
  {
   "cell_type": "code",
   "execution_count": 9,
   "metadata": {},
   "outputs": [
    {
     "data": {
      "text/html": [
       "<table><thead><tr><th><i>index</i></th><th>CreatedAt</th><th>Number</th><th>State</th><th>Title</th></tr></thead><tbody><tr><td>0</td><td>2020-01-31 23:21:54Z</td><td>107</td><td>open</td><td>Support sending input_request and receiving input_reply messages via the stdin channel</td></tr><tr><td>1</td><td>2020-01-31 22:23:47Z</td><td>106</td><td>open</td><td>make kernel server honor `--log-path` and listen to kernel logging events</td></tr><tr><td>2</td><td>2020-01-31 16:16:46Z</td><td>105</td><td>open</td><td>Directives should be able to display help</td></tr><tr><td>3</td><td>2020-01-28 14:42:38Z</td><td>95</td><td>open</td><td>Execution failed if project references several other projects</td></tr><tr><td>4</td><td>2020-01-25 18:17:06Z</td><td>88</td><td>open</td><td>EntityFrameworkCore: System.BadImageFormatException: Could not load file or assembly &#39;Microsoft.Bcl.AsyncInterfaces</td></tr><tr><td>5</td><td>2020-01-18 13:00:04Z</td><td>83</td><td>open</td><td>Is there any optimization option when running c# codes?</td></tr><tr><td>6</td><td>2020-01-13 20:18:27Z</td><td>18</td><td>open</td><td>After using #r &quot;nuget&quot; line numbers of errors do not line up correctly</td></tr><tr><td>7</td><td>2020-01-13 12:49:35Z</td><td>17</td><td>open</td><td>Unable to use Tensors in Jupyter notebook due to loading errors</td></tr><tr><td>8</td><td>2019-12-22 22:51:10Z</td><td>15</td><td>open</td><td>Autocomplete Support</td></tr><tr><td>9</td><td>2019-12-19 21:41:33Z</td><td>14</td><td>open</td><td>CosmosClient in local Notebook throws exceptions</td></tr></tbody></table>"
      ]
     },
     "execution_count": 9,
     "metadata": {},
     "output_type": "execute_result"
    }
   ],
   "source": [
    "openSoFar\n",
    "|> Seq.map (fun i -> {| CreatedAt = i.CreatedAt; Title = i.Title; State = i.State.StringValue; Number = i.Number |})\n",
    "|> Seq.sortByDescending (fun d -> d.CreatedAt)\n",
    "|> Seq.take 10 // Limiting the output to 10 here!"
   ]
  },
  {
   "cell_type": "markdown",
   "metadata": {},
   "source": [
    "Let's see what issues still opened, grouped by month, looks like"
   ]
  },
  {
   "cell_type": "code",
   "execution_count": 10,
   "metadata": {},
   "outputs": [
    {
     "data": {
      "text/html": [
       "<div id=\"cf7dc4e7-a054-4938-8940-b891c34ded93\" style=\"width: 900px; height: 500px;\"></div>\r\n",
       "<script type=\"text/javascript\">\r\n",
       "\r\n",
       "var renderPlotly = function() {\r\n",
       "    var xplotRequire = requirejs.config({context:'xplot-3.0.1',paths:{plotly:'https://cdn.plot.ly/plotly-1.49.2.min'}});\r\n",
       "    xplotRequire(['plotly'], function(Plotly) {\r\n",
       "\n",
       "            var data = [{\"type\":\"scatter\",\"x\":[\"2019-07-01T00:00:00\",\"2019-08-01T00:00:00\",\"2019-09-01T00:00:00\",\"2019-10-01T00:00:00\",\"2019-11-01T00:00:00\",\"2019-12-01T00:00:00\",\"2020-01-01T00:00:00\"],\"y\":[1,1,1,9,10,6,8]}];\n",
       "            var layout = {\"title\":\"Issues still opened, grouped by month\"};\n",
       "            Plotly.newPlot('cf7dc4e7-a054-4938-8940-b891c34ded93', data, layout);\n",
       "        \r\n",
       "});\r\n",
       "};\r\n",
       "if ((typeof(requirejs) !==  typeof(Function)) || (typeof(requirejs.config) !== typeof(Function))) { \r\n",
       "    var script = document.createElement(\"script\"); \r\n",
       "    script.setAttribute(\"src\", \"https://cdnjs.cloudflare.com/ajax/libs/require.js/2.3.6/require.min.js\"); \r\n",
       "    script.onload = function(){\r\n",
       "        renderPlotly();\r\n",
       "    };\r\n",
       "    document.getElementsByTagName(\"head\")[0].appendChild(script); \r\n",
       "}\r\n",
       "else {\r\n",
       "    renderPlotly();\r\n",
       "}\r\n",
       "</script>\r\n"
      ]
     },
     "execution_count": 10,
     "metadata": {},
     "output_type": "execute_result"
    }
   ],
   "source": [
    "openByMonthOfCreation\n",
    "|> Seq.map (fun g -> (DateTime(g.Date.Year, g.Date.Month, 1), g.Count))\n",
    "|> Chart.Line\n",
    "|> Chart.WithTitle(\"Issues still opened, grouped by month\")"
   ]
  },
  {
   "cell_type": "markdown",
   "metadata": {},
   "source": [
    "Now let's look at idle vs active issues."
   ]
  },
  {
   "cell_type": "code",
   "execution_count": 11,
   "metadata": {},
   "outputs": [
    {
     "data": {
      "text/html": [
       "<div id=\"ad71e530-48c8-41e2-8720-5cac0eca607f\" style=\"width: 900px; height: 500px;\"></div>\r\n",
       "<script type=\"text/javascript\">\r\n",
       "\r\n",
       "var renderPlotly = function() {\r\n",
       "    var xplotRequire = requirejs.config({context:'xplot-3.0.1',paths:{plotly:'https://cdn.plot.ly/plotly-1.49.2.min'}});\r\n",
       "    xplotRequire(['plotly'], function(Plotly) {\r\n",
       "\n",
       "            var data = [{\"type\":\"scattergl\",\"x\":[\"2019-10-01T00:00:00\",\"2019-11-01T00:00:00\",\"2019-12-01T00:00:00\",\"2020-01-01T00:00:00\"],\"y\":[6,4,2,4],\"name\":\"Idle\"},{\"type\":\"scattergl\",\"x\":[\"2019-07-01T00:00:00\",\"2019-08-01T00:00:00\",\"2019-09-01T00:00:00\",\"2019-10-01T00:00:00\",\"2019-11-01T00:00:00\",\"2019-12-01T00:00:00\",\"2020-01-01T00:00:00\"],\"y\":[1,1,1,3,6,4,4],\"name\":\"Active\"}];\n",
       "            var layout = {\"title\":\"Idle and active open issue report\"};\n",
       "            Plotly.newPlot('ad71e530-48c8-41e2-8720-5cac0eca607f', data, layout);\n",
       "        \r\n",
       "});\r\n",
       "};\r\n",
       "if ((typeof(requirejs) !==  typeof(Function)) || (typeof(requirejs.config) !== typeof(Function))) { \r\n",
       "    var script = document.createElement(\"script\"); \r\n",
       "    script.setAttribute(\"src\", \"https://cdnjs.cloudflare.com/ajax/libs/require.js/2.3.6/require.min.js\"); \r\n",
       "    script.onload = function(){\r\n",
       "        renderPlotly();\r\n",
       "    };\r\n",
       "    document.getElementsByTagName(\"head\")[0].appendChild(script); \r\n",
       "}\r\n",
       "else {\r\n",
       "    renderPlotly();\r\n",
       "}\r\n",
       "</script>\r\n"
      ]
     },
     "execution_count": 11,
     "metadata": {},
     "output_type": "execute_result"
    }
   ],
   "source": [
    "let idleByMonth =\n",
    "    openSoFar\n",
    "    |> Seq.filter (fun i -> i.Comments = 0)\n",
    "    |> Seq.groupBy (fun i -> DateTime(i.CreatedAt.Year, i.CreatedAt.Month, 1))\n",
    "    |> Seq.map(fun (key, issues) -> {| Date = key; Count = issues.Count() |})\n",
    "\n",
    "let activeByMonth =\n",
    "    openSoFar\n",
    "    |> Seq.filter (fun i -> i.Comments > 0)\n",
    "    |> Seq.groupBy (fun i -> DateTime(i.CreatedAt.Year, i.CreatedAt.Month, 1))\n",
    "    |> Seq.map (fun (key, issues) -> {| Date = key; Count = issues.Count() |})\n",
    "\n",
    "let idleSeries =\n",
    "    Graph.Scattergl(\n",
    "        name = \"Idle\",\n",
    "        y = (idleByMonth |> Seq.map (fun g -> g.Count)),\n",
    "        x = (idleByMonth |> Seq.map (fun g -> g.Date)))\n",
    "\n",
    "let activeSeries =\n",
    "    Graph.Scattergl(\n",
    "        name = \"Active\",\n",
    "        y = (activeByMonth |> Seq.map (fun g -> g.Count)),\n",
    "        x = (activeByMonth |> Seq.map (fun g -> g.Date)))\n",
    "\n",
    "[idleSeries; activeSeries]\n",
    "|> Chart.Plot\n",
    "|> Chart.WithTitle(\"Idle and active open issue report\")"
   ]
  },
  {
   "cell_type": "markdown",
   "metadata": {},
   "source": [
    "Now let's generate a report for the whole year."
   ]
  },
  {
   "cell_type": "code",
   "execution_count": 12,
   "metadata": {},
   "outputs": [
    {
     "data": {
      "text/html": [
       "<div id=\"510307f8-bdee-4dd8-839c-119ef49f87e6\" style=\"width: 900px; height: 500px;\"></div>\r\n",
       "<script type=\"text/javascript\">\r\n",
       "\r\n",
       "var renderPlotly = function() {\r\n",
       "    var xplotRequire = requirejs.config({context:'xplot-3.0.1',paths:{plotly:'https://cdn.plot.ly/plotly-1.49.2.min'}});\r\n",
       "    xplotRequire(['plotly'], function(Plotly) {\r\n",
       "\n",
       "            var data = [{\"type\":\"scattergl\",\"x\":[\"2019-07-01T00:00:00\",\"2019-08-01T00:00:00\",\"2019-09-01T00:00:00\",\"2019-10-01T00:00:00\",\"2019-11-01T00:00:00\",\"2019-12-01T00:00:00\",\"2020-01-01T00:00:00\"],\"y\":[1,1,1,9,10,6,8],\"name\":\"Created\"},{\"type\":\"scattergl\",\"x\":[\"2020-01-01T00:00:00\",\"2020-02-01T00:00:00\"],\"y\":[70,7],\"name\":\"Closed\"},{\"type\":\"scattergl\",\"x\":[\"2019-07-01T00:00:00\",\"2019-08-01T00:00:00\",\"2019-09-01T00:00:00\",\"2019-10-01T00:00:00\",\"2019-11-01T00:00:00\",\"2019-12-01T00:00:00\",\"2020-01-01T00:00:00\",\"2020-02-01T00:00:00\"],\"y\":[1,4,6,11,13,4,32,6],\"name\":\"Open\"}];\n",
       "            var layout = {\"title\":\"Issue report for the current year\"};\n",
       "            Plotly.newPlot('510307f8-bdee-4dd8-839c-119ef49f87e6', data, layout);\n",
       "        \r\n",
       "});\r\n",
       "};\r\n",
       "if ((typeof(requirejs) !==  typeof(Function)) || (typeof(requirejs.config) !== typeof(Function))) { \r\n",
       "    var script = document.createElement(\"script\"); \r\n",
       "    script.setAttribute(\"src\", \"https://cdnjs.cloudflare.com/ajax/libs/require.js/2.3.6/require.min.js\"); \r\n",
       "    script.onload = function(){\r\n",
       "        renderPlotly();\r\n",
       "    };\r\n",
       "    document.getElementsByTagName(\"head\")[0].appendChild(script); \r\n",
       "}\r\n",
       "else {\r\n",
       "    renderPlotly();\r\n",
       "}\r\n",
       "</script>\r\n"
      ]
     },
     "execution_count": 12,
     "metadata": {},
     "output_type": "execute_result"
    }
   ],
   "source": [
    "let openDataPoints =\n",
    "    openByMonthOfCreation\n",
    "    |> Seq.map (fun g -> {| Date = DateTime(g.Date.Year, g.Date.Month, 1); Count = g.Count |})\n",
    "    |> Seq.sortBy (fun d -> d.Date)\n",
    "\n",
    "let closedDataPoints =\n",
    "    closedByMonthOfClosure\n",
    "    |> Seq.map (fun g -> {| Date = DateTime(g.Date.Year, g.Date.Month, 1); Count = g.Count |})\n",
    "    |> Seq.sortBy (fun d -> d.Date)\n",
    "\n",
    "let openCountByMonthDataPoints =\n",
    "    openCountByMonth\n",
    "    |> Seq.map (fun g -> {| Date = DateTime(g.Date.Year, g.Date.Month, 1); Count = g.Count |})\n",
    "    |> Seq.sortBy (fun d -> d.Date)\n",
    "\n",
    "let openSeries =\n",
    "    Graph.Scattergl(\n",
    "        name = \"Created\",\n",
    "        x = (openDataPoints |> Seq.map (fun g -> g.Date)),\n",
    "        y = (openDataPoints |> Seq.map (fun g -> g.Count)))\n",
    "\n",
    "let closeSeries =\n",
    "    Graph.Scattergl(\n",
    "        name = \"Closed\",\n",
    "        x = (closedDataPoints |> Seq.map (fun g -> g.Date)),\n",
    "        y = (closedDataPoints |> Seq.map (fun g -> g.Count)))\n",
    "\n",
    "let stillOpenSeries =\n",
    "    Graph.Scattergl(\n",
    "        name = \"Open\",\n",
    "        x = (openCountByMonthDataPoints |> Seq.map (fun g -> g.Date)),\n",
    "        y = (openCountByMonthDataPoints |> Seq.map (fun g -> g.Count)))\n",
    "\n",
    "[openSeries; closeSeries; stillOpenSeries]\n",
    "|> Chart.Plot\n",
    "|> Chart.WithTitle(\"Issue report for the current year\")"
   ]
  },
  {
   "cell_type": "markdown",
   "metadata": {},
   "source": [
    "### How many times has dotnet/fsharp been forked?"
   ]
  },
  {
   "cell_type": "code",
   "execution_count": 13,
   "metadata": {},
   "outputs": [],
   "source": [
    "let forks =\n",
    "    async {\n",
    "        return!\n",
    "            gitHubClient.Repository.Forks.GetAll(organization, repositoryName)\n",
    "            |> Async.AwaitTask\n",
    "    } |> Async.RunSynchronously"
   ]
  },
  {
   "cell_type": "code",
   "execution_count": 14,
   "metadata": {},
   "outputs": [
    {
     "data": {
      "text/html": [
       "<div id=\"87cfb2bd-951f-4f16-ae05-98d0bf1f861f\" style=\"width: 900px; height: 500px;\"></div>\r\n",
       "<script type=\"text/javascript\">\r\n",
       "\r\n",
       "var renderPlotly = function() {\r\n",
       "    var xplotRequire = requirejs.config({context:'xplot-3.0.1',paths:{plotly:'https://cdn.plot.ly/plotly-1.49.2.min'}});\r\n",
       "    xplotRequire(['plotly'], function(Plotly) {\r\n",
       "\n",
       "            var data = [{\"type\":\"scattergl\",\"x\":[\"2020-01-22T00:00:00\",\"2020-01-23T00:00:00\",\"2020-01-24T00:00:00\",\"2020-01-25T00:00:00\",\"2020-01-27T00:00:00\"],\"y\":[2,2,2,1,2],\"name\":\"created by month\"},{\"type\":\"scattergl\",\"x\":[\"2020-01-22T00:00:00\",\"2020-01-23T00:00:00\",\"2020-01-24T00:00:00\",\"2020-01-25T00:00:00\",\"2020-01-27T00:00:00\"],\"y\":[2,2,2,1,2],\"name\":\"running total\"},{\"type\":\"scattergl\",\"x\":[\"2020-01-22T00:00:00\",\"2020-01-24T00:00:00\",\"2020-01-25T00:00:00\",\"2020-01-27T00:00:00\",\"2020-01-31T00:00:00\",\"2020-02-03T00:00:00\",\"2020-02-04T00:00:00\"],\"y\":[1,2,1,2,1,1,1],\"name\":\"last updated by month\"}];\n",
       "            var layout = {\"title\":\"Fork activity\"};\n",
       "            Plotly.newPlot('87cfb2bd-951f-4f16-ae05-98d0bf1f861f', data, layout);\n",
       "        \r\n",
       "});\r\n",
       "};\r\n",
       "if ((typeof(requirejs) !==  typeof(Function)) || (typeof(requirejs.config) !== typeof(Function))) { \r\n",
       "    var script = document.createElement(\"script\"); \r\n",
       "    script.setAttribute(\"src\", \"https://cdnjs.cloudflare.com/ajax/libs/require.js/2.3.6/require.min.js\"); \r\n",
       "    script.onload = function(){\r\n",
       "        renderPlotly();\r\n",
       "    };\r\n",
       "    document.getElementsByTagName(\"head\")[0].appendChild(script); \r\n",
       "}\r\n",
       "else {\r\n",
       "    renderPlotly();\r\n",
       "}\r\n",
       "</script>\r\n"
      ]
     },
     "execution_count": 14,
     "metadata": {},
     "output_type": "execute_result"
    }
   ],
   "source": [
    "let forksCreatedByMonth =\n",
    "    forks\n",
    "    |> Seq.groupBy (fun f -> DateTime(f.CreatedAt.Year, f.CreatedAt.Month,  f.CreatedAt.Day))\n",
    "    |> Seq.map (fun (key, issues) -> {| Date = key; Count = issues.Count() |})\n",
    "    |> Seq.sortBy (fun g -> g.Date)\n",
    "\n",
    "let forksLastUpdateByMonth =\n",
    "    forks\n",
    "    |> Seq.groupBy (fun f -> DateTime(f.UpdatedAt.Year, f.UpdatedAt.Month,  f.UpdatedAt.Day))\n",
    "    |> Seq.map (fun (key, issues) -> {| Date = key; Count = issues.Count() |})\n",
    "    |> Seq.sortBy (fun g -> g.Date)\n",
    "\n",
    "let forkCountByMonth =\n",
    "    forksCreatedByMonth\n",
    "    |> Seq.sortBy (fun g -> g.Date)\n",
    "    |> Seq.map (fun g -> {| Date = g.Date; Count = g.Count |})\n",
    "\n",
    "let forkCreationSeries =\n",
    "    Graph.Scattergl(\n",
    "        name = \"created by month\",\n",
    "        x = (forksCreatedByMonth |> Seq.map (fun g -> g.Date)),\n",
    "        y = (forksCreatedByMonth |> Seq.map (fun g -> g.Count)))\n",
    "\n",
    "let forkTotalSeries =\n",
    "    Graph.Scattergl(\n",
    "        name = \"running total\",\n",
    "        x = (forkCountByMonth |> Seq.map (fun g -> g.Date)),\n",
    "        y = (forkCountByMonth |> Seq.map (fun g -> g.Count)))\n",
    "\n",
    "let forkUpdateSeries =\n",
    "    Graph.Scattergl(\n",
    "        name = \"last updated by month\",\n",
    "        x = (forksLastUpdateByMonth |> Seq.map (fun g -> g.Date)),\n",
    "        y = (forksLastUpdateByMonth |> Seq.map (fun g -> g.Count)))\n",
    "\n",
    "[forkCreationSeries; forkTotalSeries; forkUpdateSeries]\n",
    "|> Chart.Plot\n",
    "|> Chart.WithTitle(\"Fork activity\")"
   ]
  }
 ],
 "metadata": {
  "kernelspec": {
   "display_name": ".NET (F#)",
   "language": "F#",
   "name": ".net-fsharp"
  },
  "language_info": {
   "file_extension": ".fs",
   "mimetype": "text/x-fsharp",
   "name": "C#",
   "pygments_lexer": "fsharp",
   "version": "4.5"
  },
  "title": "Interactive GitHub Dashboard with F#"
 },
 "nbformat": 4,
 "nbformat_minor": 4
}
